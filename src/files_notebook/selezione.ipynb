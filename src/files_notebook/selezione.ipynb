{
 "cells": [
  {
   "attachments": {},
   "cell_type": "markdown",
   "metadata": {},
   "source": [
    "Per come eseguire il blocco leggi, vedi [sequenza](sequenza.ipynb)\n",
    "\n",
    "Leggiamo le variabili, assumiamo che debbano essere numeri con la virgola stavolta. \n",
    "\n",
    "Usiamo quindi float e input"
   ]
  },
  {
   "cell_type": "code",
   "execution_count": 1,
   "metadata": {},
   "outputs": [],
   "source": [
    "x = float(input(\"Inserisci il primo numero\"))\n",
    "y = float(input(\"Inserisci il secondo numero\"))"
   ]
  },
  {
   "attachments": {},
   "cell_type": "markdown",
   "metadata": {},
   "source": [
    "*Ora dobbiamo scrivere la condizione da controllare*.\n",
    "\n",
    "Questa sarà un'espressione booleana quindi si dovrà risolvere con un `True` o `False`.\n",
    "\n",
    "La condizione è che ***se*** x è diverso da 0 ***e*** y è diverso da 0; \n",
    "\n",
    "***allora*** si procede ad assegnare a `w` il valore dell'espressione `x * y`, \n",
    "\n",
    "***altrimenti*** si assegna 0 a `w` senza fare l'operazione"
   ]
  },
  {
   "cell_type": "code",
   "execution_count": 2,
   "metadata": {},
   "outputs": [],
   "source": [
    "if (x != 0 and y != 0):\n",
    "    w = x * y\n",
    "else:\n",
    "    w = 0"
   ]
  },
  {
   "attachments": {},
   "cell_type": "markdown",
   "metadata": {},
   "source": [
    "L'espressione booleana è \n",
    "\n",
    "`(x != 0 and y != 0)`\n",
    "\n",
    "Leggendola un elemento alla volta:\n",
    "\n",
    "x non uguale a 0 e y non uguale a zero\n",
    "\n",
    "Quindi risulterà vera solo se entrambe i valori sono diversi da zero\n",
    "\n",
    "L'altrimenti è il blocco di codice dell'`else`"
   ]
  },
  {
   "cell_type": "code",
   "execution_count": 3,
   "metadata": {},
   "outputs": [
    {
     "name": "stdout",
     "output_type": "stream",
     "text": [
      "7.354901473599999\n"
     ]
    }
   ],
   "source": [
    "print(w)"
   ]
  }
 ],
 "metadata": {
  "kernelspec": {
   "display_name": "Python 3",
   "language": "python",
   "name": "python3"
  },
  "language_info": {
   "codemirror_mode": {
    "name": "ipython",
    "version": 3
   },
   "file_extension": ".py",
   "mimetype": "text/x-python",
   "name": "python",
   "nbconvert_exporter": "python",
   "pygments_lexer": "ipython3",
   "version": "3.10.6"
  },
  "orig_nbformat": 4,
  "vscode": {
   "interpreter": {
    "hash": "916dbcbb3f70747c44a77c7bcd40155683ae19c65e1c03b4aa3499c5328201f1"
   }
  }
 },
 "nbformat": 4,
 "nbformat_minor": 2
}
