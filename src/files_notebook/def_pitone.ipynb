{
 "cells": [
  {
   "attachments": {},
   "cell_type": "markdown",
   "metadata": {},
   "source": [
    "# Definire Funzioni in Python\n",
    "\n",
    "## tipi di dato \n",
    "si possono definire funzioni che ritornano un particolare tipo di dato con una sintassi simile a come si definisce il tipo dato di una variabile\n",
    "\n",
    ">In python quello che definisce i blocchi di codice è semplicemente l'indentazione quindi occhio agli spazi!"
   ]
  },
  {
   "cell_type": "code",
   "execution_count": 2,
   "metadata": {},
   "outputs": [],
   "source": [
    "def func_ritorna_int(param) -> int:\n",
    "    if type(param) == \"int\":\n",
    "        val = param\n",
    "    else:\n",
    "        val = int(param)\n",
    "    return (val )"
   ]
  },
  {
   "attachments": {},
   "cell_type": "markdown",
   "metadata": {},
   "source": [
    "Nel blocco sopra ho definito la funzione (un po stupida) che dovrebbe tornare un int. Eseguendo il blocco di codice non succede nulla perchè non ho chiamato la funzione.\n",
    "\n",
    ">per chiamare la funzione devo invocarla scrivendo il suo nome e passare un parametro"
   ]
  },
  {
   "cell_type": "code",
   "execution_count": 4,
   "metadata": {},
   "outputs": [
    {
     "ename": "ValueError",
     "evalue": "invalid literal for int() with base 10: 'Hello!'",
     "output_type": "error",
     "traceback": [
      "\u001b[0;31m---------------------------------------------------------------------------\u001b[0m",
      "\u001b[0;31mValueError\u001b[0m                                Traceback (most recent call last)",
      "Cell \u001b[0;32mIn [4], line 7\u001b[0m\n\u001b[1;32m      4\u001b[0m diventa_int \u001b[39m#riscrivo la variabile solo per farla stampare a jupiter\u001b[39;00m\n\u001b[1;32m      6\u001b[0m frase \u001b[39m=\u001b[39m \u001b[39m\"\u001b[39m\u001b[39mHello!\u001b[39m\u001b[39m\"\u001b[39m\n\u001b[0;32m----> 7\u001b[0m test \u001b[39m=\u001b[39m func_ritorna_int(frase)\n",
      "Cell \u001b[0;32mIn [2], line 5\u001b[0m, in \u001b[0;36mfunc_ritorna_int\u001b[0;34m(param)\u001b[0m\n\u001b[1;32m      3\u001b[0m     val \u001b[39m=\u001b[39m param\n\u001b[1;32m      4\u001b[0m \u001b[39melse\u001b[39;00m:\n\u001b[0;32m----> 5\u001b[0m     val \u001b[39m=\u001b[39m \u001b[39mint\u001b[39;49m(param)\n\u001b[1;32m      6\u001b[0m \u001b[39mreturn\u001b[39;00m (val )\n",
      "\u001b[0;31mValueError\u001b[0m: invalid literal for int() with base 10: 'Hello!'"
     ]
    }
   ],
   "source": [
    "non_int = 3.14\n",
    "\n",
    "diventa_int: int = func_ritorna_int(non_int)\n",
    "diventa_int #riscrivo la variabile solo per farla stampare a jupiter\n",
    "\n",
    "frase = \"Hello!\"\n",
    "test = func_ritorna_int(frase)\n",
    "\"\"\"Passando una stringa si arrabbia perchè non sa cosa farci\n",
    "si potrebbe modificare il comportamento per tenere conto anche \n",
    "della possibilità che il parametro possa essere una stringa, oppure \n",
    "fare in modo che appaia un errore.\"\"\""
   ]
  },
  {
   "attachments": {},
   "cell_type": "markdown",
   "metadata": {},
   "source": [
    "## Funzioni senza ritorno di valore \n",
    "\n",
    "molte funzioni non ritornano valori ma compiono solo operazioni, ad esempio comandi di scrittura sul database, print di qualche cosa sul terminale, operazioni su files o cartelle del sistema operativo...\n",
    "\n",
    "Questi sono esempi di funzioni che possono non ritornare un valore ma che semplicemente compiono operazioni"
   ]
  },
  {
   "cell_type": "code",
   "execution_count": 18,
   "metadata": {},
   "outputs": [
    {
     "name": "stdout",
     "output_type": "stream",
     "text": [
      "Bella python\n",
      "Bella jupiter\n"
     ]
    }
   ],
   "source": [
    "def bella(qualcosa:str) -> None:\n",
    "    \"\"\"Funzione bella che prende una stringa e aggiunge bella\"\"\"\n",
    "    print(\"Bella\", qualcosa)\n",
    "\n",
    "bella(\"python\")\n",
    "j = \"jupiter\"\n",
    "bella(j)"
   ]
  },
  {
   "attachments": {},
   "cell_type": "markdown",
   "metadata": {},
   "source": [
    "## Esempi più avanzati:"
   ]
  },
  {
   "cell_type": "code",
   "execution_count": 16,
   "metadata": {},
   "outputs": [
    {
     "name": "stdout",
     "output_type": "stream",
     "text": [
      "La parola web è presente nel paragrafo\n"
     ]
    }
   ],
   "source": [
    "def keyword_in_paragrafo(paragrafo:str, keyword:str) -> None:\n",
    "    \"\"\"Passati un testo e una parola chiave, dice all'utente\n",
    "    se una parola compare almeno una volta all'interno del paragrafo\n",
    "    di testo passato alla funzione.\"\"\"\n",
    "    parole = paragrafo.split(' ')\n",
    "    \n",
    "    #print(parole)\n",
    "    #print(keyword in parole)\n",
    "\n",
    "    if keyword in parole:\n",
    "        print(f\"La parola {keyword} è presente nel paragrafo\")\n",
    "    else:\n",
    "        print(f\"{keyword} non è presente nel testo.\")\n",
    "\n",
    "p = \"During these formative years of the Web, web pages could only be static, lacking the capability for dynamic behavior after the page was loaded in the browser. There was a desire in the flourishing web development scene to remove this limitation, so in 1995, Netscape decided to add a scripting language to Navigator. They pursued two routes to achieve this: collaborating with Sun Microsystems to embed the Java programming language, while also hiring Brendan Eich to embed the Scheme language.[6]\"\n",
    "k = \"web\"\n",
    "keyword_in_paragrafo(p, k)\n",
    "\n"
   ]
  },
  {
   "attachments": {},
   "cell_type": "markdown",
   "metadata": {},
   "source": [
    "La funzione `keyword_in_paragrafo` ha un po di cose particolari che vale la pena vedere:\n",
    "\n",
    "- Tipo dato di ritorno è `None` che è la parola di python per il rappresentare il vuoto.\n",
    "- Subito dopo la dichiarazione della funzione e prima del corpo (dove sta il codice) c'è un commento multilinea (le tre doppie virgolette), questo serve a spiegare cosa dovrebbe fare la funzione\n",
    "- La prima riga della funzione è  `parole = paragrafo.split(' ')` questo prima di tutto dichiara la variabile parole, quindi la inizializza a una sequenza di stringhe (una lista) dividendo il testo originario usando un metodo (funzione) che è definito da python e si può usare per qualsiasi stringa. Il metodo si chiama split, richiede un parametro che è un char e divide il testo ogni volta che incontra quel char.\n",
    "- Le due righe successive sono commentate in modo da essere \"innoque\" ovvero vengono ignorate. Le ho lasciate perché le ho usate quando ho scritto la funzione per capire il comportamento della variabile parole e della condizione dell'if.\n",
    "- `if keyword in parole`  altro passaggio molto pytonico, in altri linguaggi avremo dovuto fare un ciclo while, ma python ha la possibilità di semplificare la sintassi e avvicinarsi al linguaggio naturale. Se c'è la keyword in parole dimmi che compare, altrimenti dimmi che non c'è.\n",
    "- Altra cosa interessante e funzionalità aggiunta da poco in python è la formattazione delle stringhe `f\"Stringa di testo che può riconoscere una {variabile_all_interno_del_codice}\" . Ovvero aggiungendo una f davanti alla stringa possiamo modificare la stessa in vari modi. Sembra una cosa banale ma semplifica molto in diverse circostanze.\n",
    "- bisogna poi tenere conto dei limiti della funzione, ovvero se avessi cercato la stringa \"Web\" non l'avrebbe trovata, perché se andiamo a vedere la lista l'unica Web con la W è seguita da una virgola quindi per lui la stringa è \"Web,\" che non coincide con \"Web\" quindi false."
   ]
  },
  {
   "attachments": {},
   "cell_type": "markdown",
   "metadata": {},
   "source": [
    "## Argomenti arbitrari "
   ]
  },
  {
   "cell_type": "code",
   "execution_count": 5,
   "metadata": {},
   "outputs": [
    {
     "name": "stdout",
     "output_type": "stream",
     "text": [
      "io tu loro\n",
      "mamma papà fratello sorella cugino zia zio\n",
      "solo io\n"
     ]
    }
   ],
   "source": [
    "def quanti_siamo(*argv):\n",
    "    print(*argv)\n",
    "\n",
    "quanti_siamo(\"io\", \"tu\", \"loro\")\n",
    "quanti_siamo(\"mamma\", \"papà\", \"fratello\",\"sorella\", \"cugino\", \"zia\", \"zio\")\n",
    "quanti_siamo(\"solo io\")"
   ]
  },
  {
   "cell_type": "markdown",
   "metadata": {},
   "source": []
  }
 ],
 "metadata": {
  "kernelspec": {
   "display_name": "Python 3",
   "language": "python",
   "name": "python3"
  },
  "language_info": {
   "codemirror_mode": {
    "name": "ipython",
    "version": 3
   },
   "file_extension": ".py",
   "mimetype": "text/x-python",
   "name": "python",
   "nbconvert_exporter": "python",
   "pygments_lexer": "ipython3",
   "version": "3.10.6"
  },
  "orig_nbformat": 4,
  "vscode": {
   "interpreter": {
    "hash": "916dbcbb3f70747c44a77c7bcd40155683ae19c65e1c03b4aa3499c5328201f1"
   }
  }
 },
 "nbformat": 4,
 "nbformat_minor": 2
}
