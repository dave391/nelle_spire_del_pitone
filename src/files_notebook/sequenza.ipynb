{
 "cells": [
  {
   "attachments": {},
   "cell_type": "markdown",
   "metadata": {},
   "source": [
    "**Per tradurre blocco per blocco il diagramma,** partiamo dal blocco inizio: rappresenta semplicemente il fatto di avere il programma e la possibilità di poterlo far girare. Cosa scontata adesso però se non ci fosse l'interprete o il compilatore non si potrebbe proseguire.\n",
    "\n",
    "**Leggi x, Leggi y**: Abbiamo bisogno di usare una funzione per questo. Tutti i linguaggi hanno la possibilità di prendere input in qualche modo, che sia da utente, da file o tramite connessioni con DB.\n",
    "\n",
    "Nel nostro caso assumiamo che l'idea è quella di un input da utente presente davanti alla tastiera. \n",
    "\n",
    "La funzione in python è:\n",
    "\n",
    ">`input()`"
   ]
  },
  {
   "cell_type": "code",
   "execution_count": 3,
   "metadata": {},
   "outputs": [
    {
     "data": {
      "text/plain": [
       "''"
      ]
     },
     "execution_count": 3,
     "metadata": {},
     "output_type": "execute_result"
    }
   ],
   "source": [
    "input(\"Scrivi qui\")"
   ]
  },
  {
   "attachments": {},
   "cell_type": "markdown",
   "metadata": {},
   "source": [
    "in questo caso ci compare una barra sopra e non nel terminale, perchè jupiter ha il suo interprete. Provando a lanciare la stessa riga sul teminale vedrete la stringa e avrete la possibilità di inserire da tastiera.\n",
    "\n",
    "Il problema è che quello che inserisco non è utilizzabile, perchè è in memoria ma non è associato a una variabile quindi impossibile da richiamare.\n",
    "Per risolvere faccio un assegnamento."
   ]
  },
  {
   "cell_type": "code",
   "execution_count": 14,
   "metadata": {},
   "outputs": [],
   "source": [
    "x = int(input(\"Inserisci il primo numero\"))\n",
    "y = int(input(\"Inserisci il secondo numero\"))"
   ]
  },
  {
   "attachments": {},
   "cell_type": "markdown",
   "metadata": {},
   "source": [
    "Input è una funzione che restituisce stringhe, se ho bisogno di numeri devo\n",
    "fare una conversine a int che qui ho fatto inglobando la fz input con una fz\n",
    "int. In sostanza chiedo un input all'utente, prendo quello che ha scritto e lo\n",
    "trasformo in numero INTERO, poi lo assegno alla variabile.\n",
    "\n",
    "Ora ho i numeri memorizzati nelle varibili x e y, per essere sicuro faccio il print (lo step del print non è assolutamente necessario ma serve per capire se il programma sta procedendo come previsto)"
   ]
  },
  {
   "cell_type": "code",
   "execution_count": 15,
   "metadata": {},
   "outputs": [
    {
     "name": "stdout",
     "output_type": "stream",
     "text": [
      "3\n",
      "4\n"
     ]
    }
   ],
   "source": [
    "print(x)\n",
    "print(y)"
   ]
  },
  {
   "attachments": {},
   "cell_type": "markdown",
   "metadata": {},
   "source": [
    "**Il prossimo step è W = X * Y** ovvero un assegnamento. Alla variabile w viene assegnata un'espressione che, in questo caso è il prodotto del *valore* di due variabili.\n",
    "Le regole per l'operazione di assegnamento sono:\n",
    "- a sinistra del segno `=` ci deve essere un nome valido per una variabile (non inizia con numero, non ha spazi, non ha simboli riservati +*-/@#!); \n",
    "- a destra un'espressione che può essere un espressione aritmetica come in questo caso, una chiamata a una funzione (come prima con input), una costante (numero o stringa scritti nel codice)"
   ]
  },
  {
   "cell_type": "code",
   "execution_count": 16,
   "metadata": {},
   "outputs": [],
   "source": [
    "w = x * y"
   ]
  },
  {
   "attachments": {},
   "cell_type": "markdown",
   "metadata": {},
   "source": [
    "**Ultimo step Leggi(W)** ovvoro dobbiamo mostrate all'utente il risultato quindi un print."
   ]
  },
  {
   "cell_type": "code",
   "execution_count": 17,
   "metadata": {},
   "outputs": [
    {
     "name": "stdout",
     "output_type": "stream",
     "text": [
      "12\n"
     ]
    }
   ],
   "source": [
    "print(w)"
   ]
  },
  {
   "attachments": {},
   "cell_type": "markdown",
   "metadata": {},
   "source": [
    "Finito\n",
    "\n",
    "\n",
    "### Come altro si poteva fare\n",
    "#### Ovvero tecniche complesse per cose semplici\n",
    "\n",
    "si possono assegnare più variabili nello stesso momento"
   ]
  },
  {
   "cell_type": "code",
   "execution_count": 21,
   "metadata": {},
   "outputs": [
    {
     "name": "stdout",
     "output_type": "stream",
     "text": [
      "Primo Numero\n",
      " 2 \n",
      "Secondo Numero\n",
      " 5\n"
     ]
    }
   ],
   "source": [
    "a , b = int(input(\"Scrivi 2 numeri che te li moltiplico\\n\")), int(input(\"Altro\"))\n",
    "print(\"Primo Numero\\n\", \n",
    "      a,\n",
    "      \"\\nSecondo Numero\\n\",\n",
    "      b )"
   ]
  },
  {
   "attachments": {},
   "cell_type": "markdown",
   "metadata": {},
   "source": [
    "In realtà il print può essere una buona idea, se formattato bene,\n",
    "per far capire all'utente cosa è arrivato alla macchina"
   ]
  },
  {
   "cell_type": "code",
   "execution_count": 22,
   "metadata": {},
   "outputs": [
    {
     "name": "stdout",
     "output_type": "stream",
     "text": [
      "Il risultato della moltiplicazione è:  10\n"
     ]
    }
   ],
   "source": [
    "v = a *b \n",
    "print(\"Il risultato della moltiplicazione è: \", v)"
   ]
  }
 ],
 "metadata": {
  "kernelspec": {
   "display_name": "Python 3",
   "language": "python",
   "name": "python3"
  },
  "language_info": {
   "codemirror_mode": {
    "name": "ipython",
    "version": 3
   },
   "file_extension": ".py",
   "mimetype": "text/x-python",
   "name": "python",
   "nbconvert_exporter": "python",
   "pygments_lexer": "ipython3",
   "version": "3.10.6"
  },
  "orig_nbformat": 4,
  "vscode": {
   "interpreter": {
    "hash": "916dbcbb3f70747c44a77c7bcd40155683ae19c65e1c03b4aa3499c5328201f1"
   }
  }
 },
 "nbformat": 4,
 "nbformat_minor": 2
}
