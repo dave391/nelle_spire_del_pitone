{
 "cells": [
  {
   "attachments": {},
   "cell_type": "markdown",
   "metadata": {},
   "source": [
    "# cicli\n",
    "Riprendo il diagramma di esempio a pag 79 di IntroduzioneProgrammazione\n",
    "\n",
    "- gli input sono gli stessi, in questo caso ci chiede i fattori di una moltiplicazione"
   ]
  },
  {
   "cell_type": "code",
   "execution_count": 3,
   "metadata": {},
   "outputs": [
    {
     "name": "stdout",
     "output_type": "stream",
     "text": [
      "primo fattore 3, secondo fattore 3\n"
     ]
    }
   ],
   "source": [
    "x = int(input(\"Primo fattore:\\n\"))\n",
    "y = int(input(\"Secondo fattore:\\n\"))\n",
    "\n",
    "#Faccio un print per vedere cosa è entrato:\n",
    "print(f\"primo fattore {x}, secondo fattore {y}\")\n"
   ]
  },
  {
   "attachments": {},
   "cell_type": "markdown",
   "metadata": {},
   "source": [
    "## Semi Prodotto \n",
    "è la variabile che alla fine conterrà il risultato dell'operazione. Serve per mantenere in memoria gli incrementi di ogni ciclo che ci portano verso il prodotto finale"
   ]
  },
  {
   "cell_type": "code",
   "execution_count": 6,
   "metadata": {},
   "outputs": [],
   "source": [
    "sp = 0 #inizializzo a 0 per non lasciare al caso la variabile"
   ]
  },
  {
   "attachments": {},
   "cell_type": "markdown",
   "metadata": {},
   "source": [
    "## Contatore \n",
    "Il contatore è quello che ci permette di entrare nel ciclo e fare il giusto numero di iterazioni per ottenere il risultato \n",
    "- In questo esempio sceglie di usare una delle variabili di input come contatore. Questo ci farà 'perdere' il valore della variabile data in input  "
   ]
  },
  {
   "cell_type": "code",
   "execution_count": 11,
   "metadata": {},
   "outputs": [],
   "source": [
    "while( y > 0):\n",
    "    sp = sp + x\n",
    "    y = y - 1"
   ]
  },
  {
   "attachments": {},
   "cell_type": "markdown",
   "metadata": {},
   "source": [
    "## Pre condizione\n",
    "In questo caso la sintassi è leggermente differente dal diagramma di flusso di pagina 79 perchè così facendo si controlla prima la condizione del while e se è True si entra nel ciclo. Ho fatto così perché questa è la sintassi più classica del ciclo while e mi pareva più esplicativa.\n",
    "Il diagramma di flusso è quello a pag 88 \n",
    "\n",
    "![pre-condition](../../utils/pre-condition.png)\n",
    "\n",
    "Riga per riga:\n",
    "\n",
    "- il while valuta l'espressione booleana che gli viene passata, in questo caso y è maggiore di zero? Si quindi True e passa alla prima riga del blocco del ciclo. Se fosse stato false avremmo saltato completamente il ciclo e passati alla prima riga dopo il blocco while.\n",
    "- viene incrementata la variabile semi prodotto sommando al valore in memoria (era inizializzata a 0) il valore di x.\n",
    "- viene decrementata la variabile contatore perchè il primo giro di somma è fatto e ne rimarranno y - 1 da fare.\n",
    "- ora si ritorna al while e si ricomincia \n",
    "- quando y sarà uguale a 0 il ciclo si interrompe perché la condizione sarà False quindi passa oltre.\n"
   ]
  },
  {
   "cell_type": "code",
   "execution_count": 10,
   "metadata": {},
   "outputs": [
    {
     "name": "stdout",
     "output_type": "stream",
     "text": [
      "9\n"
     ]
    }
   ],
   "source": [
    "w = sp\n",
    "print(w)"
   ]
  },
  {
   "attachments": {},
   "cell_type": "markdown",
   "metadata": {},
   "source": [
    "# Osservazione\n",
    "Era possibile fare lo stesso esempio anche con un for loop ovvero un ciclo di cui si sa il numero di iterazioni nel momento in cui lo si esegue.\n",
    "In questo caso si sa perché coincide con il valore di uno dei fattori."
   ]
  },
  {
   "cell_type": "code",
   "execution_count": 12,
   "metadata": {},
   "outputs": [
    {
     "name": "stdout",
     "output_type": "stream",
     "text": [
      "il risultato è 9\n"
     ]
    }
   ],
   "source": [
    "a = int(input(\"Primo Fattore\"))\n",
    "b = int(input(\"Secondo Fattore\"))\n",
    "\n",
    "prodotto = 0\n",
    "\n",
    "for i in range(b):\n",
    "    prodotto += a #Equivale -> prodotto = prodotto + a \n",
    "\n",
    "print(f\"il risultato è {prodotto}\")\n",
    "\n"
   ]
  },
  {
   "attachments": {},
   "cell_type": "markdown",
   "metadata": {},
   "source": [
    "## Iteratore \n",
    "In python il ciclo for è un po particolare perché usa una struttura particolare. Infatti la *funzione* range ritorna un oggetto che si chiama iteratore ovvero un contatore che assolve la funzione che nell'esempio del ciclo while faceva la variabile y, tiene traccia delle iterazioni da svolgere.\n",
    "Il vantaggio in questo caso è che non abbiamo cancellato i dati delle 2 variabili quindi posso ancora utilizzarli."
   ]
  },
  {
   "cell_type": "code",
   "execution_count": 13,
   "metadata": {},
   "outputs": [
    {
     "name": "stdout",
     "output_type": "stream",
     "text": [
      "il prodotto di 3 e 3 ha come risultato 9\n"
     ]
    }
   ],
   "source": [
    "print(f\"il prodotto di {a} e {b} ha come risultato {prodotto}\")"
   ]
  }
 ],
 "metadata": {
  "kernelspec": {
   "display_name": "Python 3",
   "language": "python",
   "name": "python3"
  },
  "language_info": {
   "codemirror_mode": {
    "name": "ipython",
    "version": 3
   },
   "file_extension": ".py",
   "mimetype": "text/x-python",
   "name": "python",
   "nbconvert_exporter": "python",
   "pygments_lexer": "ipython3",
   "version": "3.10.6"
  },
  "orig_nbformat": 4
 },
 "nbformat": 4,
 "nbformat_minor": 2
}
